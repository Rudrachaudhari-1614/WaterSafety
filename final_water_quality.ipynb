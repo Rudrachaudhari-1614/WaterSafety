{
 "cells": [
  {
   "cell_type": "code",
   "execution_count": 2,
   "metadata": {
    "executionInfo": {
     "elapsed": 542,
     "status": "ok",
     "timestamp": 1691172279765,
     "user": {
      "displayName": "Rudra",
      "userId": "06042785121910705283"
     },
     "user_tz": -330
    },
    "id": "logij0UrIPke"
   },
   "outputs": [],
   "source": [
    "import pandas as pd\n",
    "import numpy as np\n",
    "import matplotlib.pyplot as plt"
   ]
  },
  {
   "cell_type": "code",
   "execution_count": 4,
   "metadata": {
    "colab": {
     "base_uri": "https://localhost:8080/"
    },
    "executionInfo": {
     "elapsed": 779,
     "status": "ok",
     "timestamp": 1691172281103,
     "user": {
      "displayName": "Rudra",
      "userId": "06042785121910705283"
     },
     "user_tz": -330
    },
    "id": "xbAFiTtFIclC",
    "outputId": "8628baec-457a-431c-cba5-cc121692627f"
   },
   "outputs": [
    {
     "name": "stdout",
     "output_type": "stream",
     "text": [
      "   turb_ntu     ph\n",
      "0      2.10   9.54\n",
      "1     12.68   6.97\n",
      "2     13.57   9.85\n",
      "3     10.15   6.95\n",
      "4     15.97  11.84\n"
     ]
    }
   ],
   "source": [
    "df1 = pd.read_csv(\"mydata.csv\", usecols = ['turb_ntu','ph'])\n",
    "print(df1.head())"
   ]
  },
  {
   "cell_type": "code",
   "execution_count": 5,
   "metadata": {
    "executionInfo": {
     "elapsed": 1218,
     "status": "ok",
     "timestamp": 1691172282318,
     "user": {
      "displayName": "Rudra",
      "userId": "06042785121910705283"
     },
     "user_tz": -330
    },
    "id": "UH0sLT3T8WH6"
   },
   "outputs": [],
   "source": [
    "lis = []\n",
    "i=0\n",
    "for i in range(30000):\n",
    "  turb = np.round(np.random.uniform(101,500),2)\n",
    "  if(i%2 == 0):\n",
    "    ph = np.round(np.random.uniform(8.5, 14),2)\n",
    "    i+=1\n",
    "  else :\n",
    "    ph = np.round(np.random.uniform(1, 6),2)\n",
    "    i+=1\n",
    "  li = [turb,ph]\n",
    "  lis.append(li)\n",
    "\n",
    "ar = np.array(lis)\n"
   ]
  },
  {
   "cell_type": "code",
   "execution_count": 6,
   "metadata": {
    "executionInfo": {
     "elapsed": 26,
     "status": "ok",
     "timestamp": 1691172282319,
     "user": {
      "displayName": "Rudra",
      "userId": "06042785121910705283"
     },
     "user_tz": -330
    },
    "id": "Wuz1747yFVzl"
   },
   "outputs": [],
   "source": [
    "df2 = pd.DataFrame(ar , columns=['turb_ntu','ph'])"
   ]
  },
  {
   "cell_type": "code",
   "execution_count": 7,
   "metadata": {
    "colab": {
     "base_uri": "https://localhost:8080/",
     "height": 206
    },
    "executionInfo": {
     "elapsed": 26,
     "status": "ok",
     "timestamp": 1691172282320,
     "user": {
      "displayName": "Rudra",
      "userId": "06042785121910705283"
     },
     "user_tz": -330
    },
    "id": "BYs62LtBF2WY",
    "outputId": "78eeea19-a4f5-45a2-8660-73a631aed1ef"
   },
   "outputs": [
    {
     "data": {
      "text/html": [
       "<div>\n",
       "<style scoped>\n",
       "    .dataframe tbody tr th:only-of-type {\n",
       "        vertical-align: middle;\n",
       "    }\n",
       "\n",
       "    .dataframe tbody tr th {\n",
       "        vertical-align: top;\n",
       "    }\n",
       "\n",
       "    .dataframe thead th {\n",
       "        text-align: right;\n",
       "    }\n",
       "</style>\n",
       "<table border=\"1\" class=\"dataframe\">\n",
       "  <thead>\n",
       "    <tr style=\"text-align: right;\">\n",
       "      <th></th>\n",
       "      <th>turb_ntu</th>\n",
       "      <th>ph</th>\n",
       "    </tr>\n",
       "  </thead>\n",
       "  <tbody>\n",
       "    <tr>\n",
       "      <th>0</th>\n",
       "      <td>2.10</td>\n",
       "      <td>9.54</td>\n",
       "    </tr>\n",
       "    <tr>\n",
       "      <th>1</th>\n",
       "      <td>12.68</td>\n",
       "      <td>6.97</td>\n",
       "    </tr>\n",
       "    <tr>\n",
       "      <th>2</th>\n",
       "      <td>13.57</td>\n",
       "      <td>9.85</td>\n",
       "    </tr>\n",
       "    <tr>\n",
       "      <th>3</th>\n",
       "      <td>10.15</td>\n",
       "      <td>6.95</td>\n",
       "    </tr>\n",
       "    <tr>\n",
       "      <th>4</th>\n",
       "      <td>15.97</td>\n",
       "      <td>11.84</td>\n",
       "    </tr>\n",
       "  </tbody>\n",
       "</table>\n",
       "</div>"
      ],
      "text/plain": [
       "   turb_ntu     ph\n",
       "0      2.10   9.54\n",
       "1     12.68   6.97\n",
       "2     13.57   9.85\n",
       "3     10.15   6.95\n",
       "4     15.97  11.84"
      ]
     },
     "execution_count": 7,
     "metadata": {},
     "output_type": "execute_result"
    }
   ],
   "source": [
    "df3 = pd.concat([df1, df2], axis=0)\n",
    "df3.head()"
   ]
  },
  {
   "cell_type": "code",
   "execution_count": 8,
   "metadata": {
    "colab": {
     "base_uri": "https://localhost:8080/"
    },
    "executionInfo": {
     "elapsed": 24,
     "status": "ok",
     "timestamp": 1691172282320,
     "user": {
      "displayName": "Rudra",
      "userId": "06042785121910705283"
     },
     "user_tz": -330
    },
    "id": "Tw0MYTyMGEMW",
    "outputId": "fbe43818-195f-4bd9-eca3-545efa878f5f"
   },
   "outputs": [
    {
     "name": "stdout",
     "output_type": "stream",
     "text": [
      "0    65336\n",
      "1    29980\n",
      "Name: target, dtype: int64\n",
      "   turb_ntu     ph  target\n",
      "0      2.10   9.54       0\n",
      "1     12.68   6.97       0\n",
      "2     13.57   9.85       0\n",
      "3     10.15   6.95       0\n",
      "4     15.97  11.84       0\n"
     ]
    }
   ],
   "source": [
    "df = df3\n",
    "df['target'] = np.where(\n",
    "    ((df['turb_ntu'] > 100) & ((df['ph'] < 6.5) | (df['ph'] > 8.5))),\n",
    "    1,\n",
    "    0\n",
    ")\n",
    "print(df['target'].value_counts())\n",
    "print(df.head())"
   ]
  },
  {
   "cell_type": "code",
   "execution_count": 9,
   "metadata": {
    "colab": {
     "base_uri": "https://localhost:8080/"
    },
    "executionInfo": {
     "elapsed": 21,
     "status": "ok",
     "timestamp": 1691172282320,
     "user": {
      "displayName": "Rudra",
      "userId": "06042785121910705283"
     },
     "user_tz": -330
    },
    "id": "tnve15zTWHUf",
    "outputId": "fc082840-1c7e-43e3-c342-43443d0178bf"
   },
   "outputs": [
    {
     "name": "stdout",
     "output_type": "stream",
     "text": [
      "       turb_ntu     ph  target\n",
      "14079    454.30   2.86       1\n",
      "34755      7.87  12.67       0\n",
      "20243     78.39   7.31       0\n",
      "58159     35.57   7.08       0\n",
      "27409    544.30   7.42       0\n"
     ]
    }
   ],
   "source": [
    "dff = df.sample(frac=1, random_state=0)\n",
    "print(dff.head())"
   ]
  },
  {
   "cell_type": "code",
   "execution_count": 10,
   "metadata": {
    "executionInfo": {
     "elapsed": 20,
     "status": "ok",
     "timestamp": 1691172282321,
     "user": {
      "displayName": "Rudra",
      "userId": "06042785121910705283"
     },
     "user_tz": -330
    },
    "id": "PLle4EocHyvn"
   },
   "outputs": [],
   "source": [
    "x = dff.iloc[:,:-1].values\n",
    "y = dff.iloc[:,-1].values"
   ]
  },
  {
   "cell_type": "code",
   "execution_count": 11,
   "metadata": {
    "executionInfo": {
     "elapsed": 21,
     "status": "ok",
     "timestamp": 1691172282321,
     "user": {
      "displayName": "Rudra",
      "userId": "06042785121910705283"
     },
     "user_tz": -330
    },
    "id": "HBpQ-DS4IJJY"
   },
   "outputs": [],
   "source": [
    "from sklearn.model_selection import train_test_split\n",
    "x_train , x_test , y_train , y_test = train_test_split(x,y,test_size=0.20,random_state=0)\n",
    "\n",
    "from sklearn.preprocessing import StandardScaler\n",
    "sc = StandardScaler()\n",
    "x_train = sc.fit_transform(x_train)\n",
    "x_test = sc.fit_transform(x_test)"
   ]
  },
  {
   "cell_type": "code",
   "execution_count": 12,
   "metadata": {
    "colab": {
     "base_uri": "https://localhost:8080/"
    },
    "executionInfo": {
     "elapsed": 22687,
     "status": "ok",
     "timestamp": 1691172305829,
     "user": {
      "displayName": "Rudra",
      "userId": "06042785121910705283"
     },
     "user_tz": -330
    },
    "id": "eYSbqlCvX9Vf",
    "outputId": "d972f4fd-d643-41c8-bb68-332abe7fc1d2"
   },
   "outputs": [
    {
     "name": "stdout",
     "output_type": "stream",
     "text": [
      "Confusion matrix : \n",
      " [[12950   189]\n",
      " [  275  5650]]\n",
      "Accuracy score : 97.57%\n"
     ]
    }
   ],
   "source": [
    "# kernel svm\n",
    "\n",
    "from sklearn.svm import SVC\n",
    "\n",
    "rg2 = SVC(kernel = 'linear')\n",
    "rg2.fit(x_train,y_train)\n",
    "\n",
    "y_pred_svm = rg2.predict(x_test)\n",
    "# print(np.concatenate((y_test.reshape(len(y_test),1),y_pred.reshape(len(y_pred),1)),1))\n",
    "\n",
    "from sklearn.metrics import accuracy_score , confusion_matrix ,precision_score , recall_score , f1_score\n",
    "ac = accuracy_score(y_test,y_pred_svm)\n",
    "cm = confusion_matrix(y_test,y_pred_svm)\n",
    "\n",
    "print('Confusion matrix : \\n',cm)\n",
    "print('Accuracy score : {0:.2f}%'.format(ac*100))\n",
    "\n",
    "# from sklearn.model_selection import cross_val_score\n",
    "# acc = cross_val_score(estimator = rg2 , X = x_train , y =y_train , cv=10 )\n",
    "# print('Accuracy mean : {0:.2f}%'.format((acc.mean())*100))\n",
    "# print('Standard deviation : {0:.2f}%'.format((acc.std())*100))"
   ]
  },
  {
   "cell_type": "code",
   "execution_count": 13,
   "metadata": {
    "colab": {
     "base_uri": "https://localhost:8080/"
    },
    "executionInfo": {
     "elapsed": 20,
     "status": "ok",
     "timestamp": 1691172305830,
     "user": {
      "displayName": "Rudra",
      "userId": "06042785121910705283"
     },
     "user_tz": -330
    },
    "id": "YAENT5jHEcc6",
    "outputId": "911b2588-4d0c-4076-da9f-6c351ceaecbd"
   },
   "outputs": [
    {
     "name": "stdout",
     "output_type": "stream",
     "text": [
      "Confusion matrix : \n",
      " [[12950   189]\n",
      " [  275  5650]]\n",
      "Accuracy score : 97.57%\n"
     ]
    }
   ],
   "source": [
    "from sklearn.discriminant_analysis import LinearDiscriminantAnalysis\n",
    "\n",
    "lda = LinearDiscriminantAnalysis()\n",
    "lda.fit(x_train, y_train)\n",
    "\n",
    "y_pred_lda = lda.predict(x_test)\n",
    "from sklearn.metrics import accuracy_score , confusion_matrix ,precision_score , recall_score , f1_score\n",
    "ac = accuracy_score(y_test,y_pred_svm)\n",
    "cm = confusion_matrix(y_test,y_pred_svm)\n",
    "\n",
    "print('Confusion matrix : \\n',cm)\n",
    "print('Accuracy score : {0:.2f}%'.format(ac*100))"
   ]
  },
  {
   "cell_type": "code",
   "execution_count": 18,
   "metadata": {
    "colab": {
     "base_uri": "https://localhost:8080/"
    },
    "executionInfo": {
     "elapsed": 19,
     "status": "ok",
     "timestamp": 1691172305831,
     "user": {
      "displayName": "Rudra",
      "userId": "06042785121910705283"
     },
     "user_tz": -330
    },
    "id": "85EEm6TlDLlR",
    "outputId": "94b5c7ca-96e9-40f6-9aee-bbe639992b25"
   },
   "outputs": [
    {
     "name": "stdout",
     "output_type": "stream",
     "text": [
      "Confusion matrix : \n",
      " [[7035    1]\n",
      " [ 144 5884]]\n",
      "Accuracy score : 98.89%\n"
     ]
    }
   ],
   "source": [
    "from sklearn.tree import DecisionTreeClassifier\n",
    "rg = DecisionTreeClassifier(criterion = 'entropy' ,random_state = 0)\n",
    "rg.fit(x_train,y_train)\n",
    "\n",
    "y_pred_dt = rg.predict(x_test)\n",
    "from sklearn.metrics import accuracy_score , confusion_matrix ,precision_score , recall_score , f1_score\n",
    "ac = accuracy_score(y_test,y_pred_dt)\n",
    "cm = confusion_matrix(y_test,y_pred_dt)\n",
    "\n",
    "print('Confusion matrix : \\n',cm)\n",
    "print('Accuracy score : {0:.2f}%'.format(ac*100))"
   ]
  },
  {
   "cell_type": "code",
   "execution_count": 14,
   "metadata": {
    "colab": {
     "base_uri": "https://localhost:8080/"
    },
    "executionInfo": {
     "elapsed": 5,
     "status": "ok",
     "timestamp": 1691172962233,
     "user": {
      "displayName": "Rudra",
      "userId": "06042785121910705283"
     },
     "user_tz": -330
    },
    "id": "9x_s5_kkw27S",
    "outputId": "46042334-d818-41af-97bd-5c65782cfc8d"
   },
   "outputs": [
    {
     "name": "stdout",
     "output_type": "stream",
     "text": [
      "Confusion matrix : \n",
      " [[12918   221]\n",
      " [  273  5652]]\n",
      "Accuracy score : 97.41%\n"
     ]
    }
   ],
   "source": [
    "from sklearn.linear_model import Perceptron\n",
    "\n",
    "perceptron = Perceptron(max_iter=100, random_state=42)\n",
    "perceptron.fit(x_train, y_train)\n",
    "y_pred_pr = perceptron.predict(x_test)\n",
    "from sklearn.metrics import accuracy_score , confusion_matrix\n",
    "ac = accuracy_score(y_test,y_pred_pr)\n",
    "cm = confusion_matrix(y_test,y_pred_pr)\n",
    "\n",
    "print('Confusion matrix : \\n',cm)\n",
    "print('Accuracy score : {0:.2f}%'.format(ac*100))"
   ]
  },
  {
   "cell_type": "code",
   "execution_count": 15,
   "metadata": {
    "colab": {
     "base_uri": "https://localhost:8080/",
     "height": 472
    },
    "executionInfo": {
     "elapsed": 17,
     "status": "ok",
     "timestamp": 1691172305832,
     "user": {
      "displayName": "Rudra",
      "userId": "06042785121910705283"
     },
     "user_tz": -330
    },
    "id": "Lp9HbEXJt0nn",
    "outputId": "88cb932c-43de-4f6b-ef22-cbecde7fcde5"
   },
   "outputs": [
    {
     "data": {
      "image/png": "[encoded data removed]",
      "text/plain": [
       "<Figure size 640x480 with 1 Axes>"
      ]
     },
     "metadata": {},
     "output_type": "display_data"
    }
   ],
   "source": [
    "# model vs accuracy\n",
    "models = ['DT', 'SVM', 'LDA', 'PERCEPTRON']\n",
    "accuracies = [0.99, 0.96, 0.90, 0.54]\n",
    "\n",
    "# Plot the bar graph\n",
    "plt.bar(models, accuracies)\n",
    "\n",
    "# Set labels and title\n",
    "\n",
    "\n",
    "# Show the plot\n",
    "plt.show()"
   ]
  },
  {
   "cell_type": "code",
   "execution_count": 16,
   "metadata": {
    "colab": {
     "base_uri": "https://localhost:8080/",
     "height": 472
    },
    "executionInfo": {
     "elapsed": 906,
     "status": "ok",
     "timestamp": 1691172306722,
     "user": {
      "displayName": "Rudra",
      "userId": "06042785121910705283"
     },
     "user_tz": -330
    },
    "id": "R-vYw_WrKLpm",
    "outputId": "e0e23f7a-9ab9-4f25-f991-6c59759723c3"
   },
   "outputs": [
    {
     "data": {
      "image/png": "[encoded data removed]",
      "text/plain": [
       "<Figure size 640x480 with 1 Axes>"
      ]
     },
     "metadata": {},
     "output_type": "display_data"
    }
   ],
   "source": [
    "# model vs log loss\n",
    "models = ['DT', 'SVM', 'LDA', 'PERCEPTRON']\n",
    "log_loss = [0.0024, 1.83, 3.32, 16.54]\n",
    "\n",
    "# Plot the bar graph\n",
    "plt.bar(models, log_loss)\n",
    "\n",
    "# Set labels and title\n",
    "\n",
    "# Show the plot\n",
    "plt.show()"
   ]
  },
  {
   "cell_type": "markdown",
   "metadata": {
    "colab": {
     "base_uri": "https://localhost:8080/",
     "height": 564
    },
    "executionInfo": {
     "elapsed": 3507,
     "status": "ok",
     "timestamp": 1691172310224,
     "user": {
      "displayName": "Rudra",
      "userId": "06042785121910705283"
     },
     "user_tz": -330
    },
    "id": "lvmtlY8KJArd",
    "outputId": "285e622f-c877-499c-beb7-c1125f080e00"
   },
   "source": [
    "from sklearn.model_selection import validation_curve, train_test_split\n",
    "\n",
    "param_range = np.arange(1, 11)\n",
    "train_scores, test_scores = validation_curve(\n",
    "    rg, x_train, y_train, param_name=\"max_depth\", param_range=param_range,\n",
    "    cv=5, scoring=\"accuracy\", n_jobs=-1\n",
    ")\n",
    "train_mean = np.mean(train_scores, axis=1)\n",
    "train_std = np.std(train_scores, axis=1)\n",
    "test_mean = np.mean(test_scores, axis=1)\n",
    "test_std = np.std(test_scores, axis=1)\n",
    "\n",
    "# Plot the validation curve\n",
    "plt.figure(figsize=(10, 6))\n",
    "plt.title(\"Decision Tree Validation Curve\")\n",
    "plt.xlabel(\"Max Depth\")\n",
    "plt.ylabel(\"Accuracy\")\n",
    "plt.grid()\n",
    "\n",
    "plt.plot(param_range, train_mean, label=\"Training Accuracy\", color=\"blue\", marker='o')\n",
    "plt.fill_between(param_range, train_mean + train_std, train_mean - train_std, alpha=0.2, color=\"blue\")\n",
    "\n",
    "plt.plot(param_range, test_mean, label=\"Validation Accuracy\", color=\"green\", marker='o')\n",
    "plt.fill_between(param_range, test_mean + test_std, test_mean - test_std, alpha=0.2, color=\"green\")\n",
    "\n",
    "plt.xticks(param_range)\n",
    "plt.legend(loc=\"best\")\n",
    "plt.show()"
   ]
  },
  {
   "cell_type": "code",
   "execution_count": 27,
   "metadata": {
    "colab": {
     "base_uri": "https://localhost:8080/",
     "height": 447
    },
    "executionInfo": {
     "elapsed": 820,
     "status": "ok",
     "timestamp": 1691172638823,
     "user": {
      "displayName": "Rudra",
      "userId": "06042785121910705283"
     },
     "user_tz": -330
    },
    "id": "Dhqpqs36u6LP",
    "outputId": "e8530f0f-140f-4794-dbf8-f03c966fd44a"
   },
   "outputs": [
    {
     "data": {
      "text/plain": [
       "<matplotlib.legend.Legend at 0x78af3e9d89d0>"
      ]
     },
     "execution_count": 27,
     "metadata": {},
     "output_type": "execute_result"
    },
    {
     "data": {
      "image/png": "[encoded data removed]",
      "text/plain": [
       "<Figure size 640x480 with 1 Axes>"
      ]
     },
     "metadata": {},
     "output_type": "display_data"
    }
   ],
   "source": [
    "from sklearn import metrics\n",
    "\n",
    "fpr, tpr, _ = metrics.roc_curve(y_test, y_pred_svm)\n",
    "auc = round(metrics.roc_auc_score(y_test, y_pred_svm), 4)\n",
    "plt.plot(fpr,tpr,label=\"Support vectore machine, AUC=\"+str(auc))\n",
    "\n",
    "fpr, tpr, _ = metrics.roc_curve(y_test, y_pred_dt)\n",
    "auc = round(metrics.roc_auc_score(y_test, y_pred_dt), 4)\n",
    "plt.plot(fpr,tpr,label=\"Decision tree, AUC=\"+str(auc))\n",
    "\n",
    "fpr, tpr, _ = metrics.roc_curve(y_test, y_pred_lda)\n",
    "auc = round(metrics.roc_auc_score(y_test, y_pred_lda), 4)\n",
    "plt.plot(fpr,tpr,label=\"Linear discriminat analysis, AUC=\"+str(auc))\n",
    "\n",
    "fpr, tpr, _ = metrics.roc_curve(y_test, y_pred_pr)\n",
    "auc = round(metrics.roc_auc_score(y_test, y_pred_pr), 4)\n",
    "plt.plot(fpr,tpr,label=\"Perceptrone, AUC=\"+str(auc))\n",
    "\n",
    "plt.legend()"
   ]
  }
 ],
 "metadata": {
  "colab": {
   "authorship_tag": "ABX9TyNzklPdQFswS1Jx1/dvS4cK",
   "provenance": [
    {
     "file_id": "1I4lBna1PeX0RUscu2DcNaVOPhmcdX_tJ",
     "timestamp": 1691037325765
    }
   ]
  },
  "kernelspec": {
   "display_name": "Python 3 (ipykernel)",
   "language": "python",
   "name": "python3"
  },
  "language_info": {
   "codemirror_mode": {
    "name": "ipython",
    "version": 3
   },
   "file_extension": ".py",
   "mimetype": "text/x-python",
   "name": "python",
   "nbconvert_exporter": "python",
   "pygments_lexer": "ipython3",
   "version": "3.11.4"
  }
 },
 "nbformat": 4,
 "nbformat_minor": 1
}
